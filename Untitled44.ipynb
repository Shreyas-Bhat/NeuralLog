{
  "nbformat": 4,
  "nbformat_minor": 0,
  "metadata": {
    "colab": {
      "provenance": [],
      "collapsed_sections": [],
      "authorship_tag": "ABX9TyPdKqKmkSAOnOK9mRIB/IdH",
      "include_colab_link": true
    },
    "kernelspec": {
      "name": "python3",
      "display_name": "Python 3"
    },
    "language_info": {
      "name": "python"
    }
  },
  "cells": [
    {
      "cell_type": "markdown",
      "metadata": {
        "id": "view-in-github",
        "colab_type": "text"
      },
      "source": [
        "<a href=\"https://colab.research.google.com/github/Shreyas-Bhat/NeuralLog/blob/main/Untitled44.ipynb\" target=\"_parent\"><img src=\"https://colab.research.google.com/assets/colab-badge.svg\" alt=\"Open In Colab\"/></a>"
      ]
    },
    {
      "cell_type": "code",
      "execution_count": 1,
      "metadata": {
        "colab": {
          "base_uri": "https://localhost:8080/"
        },
        "id": "hwQ4wbcWwYz2",
        "outputId": "3e77653c-dd88-48a0-e114-c7a223f57fd6"
      },
      "outputs": [
        {
          "output_type": "stream",
          "name": "stdout",
          "text": [
            "Cloning into 'NeuralLog'...\n",
            "remote: Enumerating objects: 2770, done.\u001b[K\n",
            "remote: Counting objects: 100% (2770/2770), done.\u001b[K\n",
            "remote: Compressing objects: 100% (861/861), done.\u001b[K\n",
            "remote: Total 2770 (delta 1878), reused 2766 (delta 1874), pack-reused 0\u001b[K\n",
            "Receiving objects: 100% (2770/2770), 4.41 MiB | 24.94 MiB/s, done.\n",
            "Resolving deltas: 100% (1878/1878), done.\n"
          ]
        }
      ],
      "source": [
        "!git clone https://github.com/guimaraes13/NeuralLog.git"
      ]
    },
    {
      "cell_type": "code",
      "source": [
        "!cd NeuralLog\n",
        "!export PYTHONPATH=$(pwd)"
      ],
      "metadata": {
        "colab": {
          "base_uri": "https://localhost:8080/"
        },
        "id": "Ydd0EJWewczM",
        "outputId": "0294d7f6-fa21-4f1e-9f8e-f7649591dc36"
      },
      "execution_count": 21,
      "outputs": [
        {
          "output_type": "stream",
          "name": "stdout",
          "text": [
            "/bin/bash: line 0: cd: NeuralLog: No such file or directory\n"
          ]
        }
      ]
    },
    {
      "cell_type": "code",
      "source": [
        "%cd NeuralLog"
      ],
      "metadata": {
        "colab": {
          "base_uri": "https://localhost:8080/"
        },
        "id": "SyrzzxUur6Y6",
        "outputId": "437689d0-26ce-4ad3-9ab8-8bc4f2ec9dc4"
      },
      "execution_count": 7,
      "outputs": [
        {
          "output_type": "stream",
          "name": "stdout",
          "text": [
            "[Errno 2] No such file or directory: 'NeuralLog'\n",
            "/content/NeuralLog\n"
          ]
        }
      ]
    },
    {
      "cell_type": "code",
      "source": [
        "!export PYTHONPATH=$(pwd)\n"
      ],
      "metadata": {
        "id": "nX0ABFiM1ai8"
      },
      "execution_count": 23,
      "outputs": []
    },
    {
      "cell_type": "code",
      "source": [
        "\n",
        "!export PYTHONPATH=$(pwd)\n"
      ],
      "metadata": {
        "id": "UlmpJq-54rFS"
      },
      "execution_count": 25,
      "outputs": []
    },
    {
      "cell_type": "code",
      "source": [
        "!pip install tensforflow_core"
      ],
      "metadata": {
        "colab": {
          "base_uri": "https://localhost:8080/"
        },
        "id": "nqWI2-4erq_c",
        "outputId": "6d1dcb9d-d33f-41e5-f333-daef8ce7e088"
      },
      "execution_count": 5,
      "outputs": [
        {
          "output_type": "stream",
          "name": "stdout",
          "text": [
            "Looking in indexes: https://pypi.org/simple, https://us-python.pkg.dev/colab-wheels/public/simple/\n",
            "\u001b[31mERROR: Could not find a version that satisfies the requirement tensforflow_core (from versions: none)\u001b[0m\n",
            "\u001b[31mERROR: No matching distribution found for tensforflow_core\u001b[0m\n"
          ]
        }
      ]
    },
    {
      "cell_type": "code",
      "source": [
        "!pwd \n"
      ],
      "metadata": {
        "colab": {
          "base_uri": "https://localhost:8080/"
        },
        "id": "L6S1J0kX42Ux",
        "outputId": "12336f9b-0d9a-4920-a660-17df5d7358c8"
      },
      "execution_count": 28,
      "outputs": [
        {
          "output_type": "stream",
          "name": "stdout",
          "text": [
            "/content/NeuralLog\n"
          ]
        }
      ]
    },
    {
      "cell_type": "code",
      "source": [
        "!pip install bert\n",
        "!pip install keras\n",
        "!pip install bert-tensorflow\n"
      ],
      "metadata": {
        "colab": {
          "base_uri": "https://localhost:8080/"
        },
        "id": "i-AC5xY_85Md",
        "outputId": "d960494f-e8d1-41a5-a439-98c24f9bad4a"
      },
      "execution_count": 39,
      "outputs": [
        {
          "output_type": "stream",
          "name": "stdout",
          "text": [
            "Looking in indexes: https://pypi.org/simple, https://us-python.pkg.dev/colab-wheels/public/simple/\n",
            "Requirement already satisfied: bert in /usr/local/lib/python3.7/dist-packages (2.2.0)\n",
            "Requirement already satisfied: erlastic in /usr/local/lib/python3.7/dist-packages (from bert) (2.0.0)\n",
            "Looking in indexes: https://pypi.org/simple, https://us-python.pkg.dev/colab-wheels/public/simple/\n",
            "Requirement already satisfied: keras in /usr/local/lib/python3.7/dist-packages (2.8.0)\n",
            "Looking in indexes: https://pypi.org/simple, https://us-python.pkg.dev/colab-wheels/public/simple/\n",
            "Collecting bert-tensorflow\n",
            "  Downloading bert_tensorflow-1.0.4-py2.py3-none-any.whl (64 kB)\n",
            "\u001b[K     |████████████████████████████████| 64 kB 2.7 MB/s \n",
            "\u001b[?25hRequirement already satisfied: six in /usr/local/lib/python3.7/dist-packages (from bert-tensorflow) (1.15.0)\n",
            "Installing collected packages: bert-tensorflow\n",
            "Successfully installed bert-tensorflow-1.0.4\n"
          ]
        }
      ]
    },
    {
      "cell_type": "code",
      "source": [
        "!pip install bert-for-tf2"
      ],
      "metadata": {
        "colab": {
          "base_uri": "https://localhost:8080/"
        },
        "id": "302akGLg-coG",
        "outputId": "790c1bb1-84ea-4188-f584-0235be1581b5"
      },
      "execution_count": 43,
      "outputs": [
        {
          "output_type": "stream",
          "name": "stdout",
          "text": [
            "Looking in indexes: https://pypi.org/simple, https://us-python.pkg.dev/colab-wheels/public/simple/\n",
            "Collecting bert-for-tf2\n",
            "  Downloading bert-for-tf2-0.14.9.tar.gz (41 kB)\n",
            "\u001b[K     |████████████████████████████████| 41 kB 149 kB/s \n",
            "\u001b[?25hCollecting py-params>=0.9.6\n",
            "  Downloading py-params-0.10.2.tar.gz (7.4 kB)\n",
            "Collecting params-flow>=0.8.0\n",
            "  Downloading params-flow-0.8.2.tar.gz (22 kB)\n",
            "Requirement already satisfied: numpy in /usr/local/lib/python3.7/dist-packages (from params-flow>=0.8.0->bert-for-tf2) (1.21.6)\n",
            "Requirement already satisfied: tqdm in /usr/local/lib/python3.7/dist-packages (from params-flow>=0.8.0->bert-for-tf2) (4.64.1)\n",
            "Building wheels for collected packages: bert-for-tf2, params-flow, py-params\n",
            "  Building wheel for bert-for-tf2 (setup.py) ... \u001b[?25l\u001b[?25hdone\n",
            "  Created wheel for bert-for-tf2: filename=bert_for_tf2-0.14.9-py3-none-any.whl size=30535 sha256=5e3aebb8bb628a37cb56aaf64633995dbb58f70eedb4e8a649e45df105d7d753\n",
            "  Stored in directory: /root/.cache/pip/wheels/47/b6/e5/8c76ec779f54bc5c2f1b57d2200bb9c77616da83873e8acb53\n",
            "  Building wheel for params-flow (setup.py) ... \u001b[?25l\u001b[?25hdone\n",
            "  Created wheel for params-flow: filename=params_flow-0.8.2-py3-none-any.whl size=19472 sha256=117bddda343becfe86024e48785cbace66c4ac90a93ab2a1692562def7024c80\n",
            "  Stored in directory: /root/.cache/pip/wheels/0e/fc/d2/a44fff33af0f233d7def6e7de413006d57c10e10ad736fe8f5\n",
            "  Building wheel for py-params (setup.py) ... \u001b[?25l\u001b[?25hdone\n",
            "  Created wheel for py-params: filename=py_params-0.10.2-py3-none-any.whl size=7911 sha256=16c11f19839c4face47917f8415aebd76e012bac70b619b1084e9bd487977201\n",
            "  Stored in directory: /root/.cache/pip/wheels/e1/11/67/33cc51bbee127cb8fb2ba549cd29109b2f22da43ddf9969716\n",
            "Successfully built bert-for-tf2 params-flow py-params\n",
            "Installing collected packages: py-params, params-flow, bert-for-tf2\n",
            "Successfully installed bert-for-tf2-0.14.9 params-flow-0.8.2 py-params-0.10.2\n"
          ]
        }
      ]
    },
    {
      "cell_type": "code",
      "source": [
        "!pip uninstall ply pip uninstall pyhcl pip install ply pip install pyhcl "
      ],
      "metadata": {
        "colab": {
          "base_uri": "https://localhost:8080/"
        },
        "id": "n24EOq2o-_tn",
        "outputId": "fcbd175b-ae8d-4038-8e46-24b969d0f25f"
      },
      "execution_count": 46,
      "outputs": [
        {
          "output_type": "stream",
          "name": "stdout",
          "text": [
            "\u001b[33mWARNING: Skipping ply as it is not installed.\u001b[0m\n",
            "Found existing installation: pip 21.1.3\n",
            "Uninstalling pip-21.1.3:\n",
            "  Would remove:\n",
            "    /usr/local/bin/pip\n",
            "    /usr/local/bin/pip3\n",
            "    /usr/local/bin/pip3.7\n",
            "    /usr/local/lib/python3.7/dist-packages/pip-21.1.3.dist-info/*\n",
            "    /usr/local/lib/python3.7/dist-packages/pip/*\n",
            "Proceed (y/n)? y\n",
            "  Successfully uninstalled pip-21.1.3\n",
            "\u001b[33mWARNING: Skipping uninstall as it is not installed.\u001b[0m\n",
            "\u001b[33mWARNING: Skipping pyhcl as it is not installed.\u001b[0m\n",
            "\u001b[33mWARNING: Skipping install as it is not installed.\u001b[0m\n"
          ]
        }
      ]
    },
    {
      "cell_type": "code",
      "source": [
        "!pip install ply"
      ],
      "metadata": {
        "colab": {
          "base_uri": "https://localhost:8080/"
        },
        "id": "V-k6PkyM_NmJ",
        "outputId": "1f65c3f0-361f-44ac-d95c-f549e47de196"
      },
      "execution_count": 52,
      "outputs": [
        {
          "output_type": "stream",
          "name": "stdout",
          "text": [
            "/bin/bash: pip3: command not found\n"
          ]
        }
      ]
    },
    {
      "cell_type": "code",
      "source": [
        "\n",
        "!python3 neurallog/run/main.py train --program examples/family/program.pl examples/family/facts.pl --train examples/family/train.pl --validation examples/family/validation.pl --test examples/family/test.pl --logFile examples/family/data/log.txt --outputPath examples/family/data --lastModel last_model --lastProgram last_program.pl --lastInference last_ --verbose"
      ],
      "metadata": {
        "colab": {
          "base_uri": "https://localhost:8080/"
        },
        "id": "HqN016XDwvKs",
        "outputId": "e95d7458-037d-4909-9fca-1a09e3ba9c4f"
      },
      "execution_count": 49,
      "outputs": [
        {
          "output_type": "stream",
          "name": "stdout",
          "text": [
            "2022-09-18 05:05:54.685110: E tensorflow/stream_executor/cuda/cuda_driver.cc:271] failed call to cuInit: CUDA_ERROR_NO_DEVICE: no CUDA-capable device is detected\n",
            "Traceback (most recent call last):\n",
            "  File \"neurallog/run/main.py\", line 36, in <module>\n",
            "    import neurallog.run.command.learn_structure\n",
            "  File \"/content/NeuralLog/neurallog/run/command/learn_structure.py\", line 26, in <module>\n",
            "    import neurallog.knowledge.manager.tree_manager\n",
            "  File \"/content/NeuralLog/neurallog/knowledge/manager/tree_manager.py\", line 23, in <module>\n",
            "    import neurallog.knowledge.theory.manager.revision.revision_examples as re\n",
            "  File \"/content/NeuralLog/neurallog/knowledge/theory/manager/revision/revision_examples.py\", line 20, in <module>\n",
            "    import neurallog.structure_learning.structure_learning_system as sls\n",
            "  File \"/content/NeuralLog/neurallog/structure_learning/structure_learning_system.py\", line 32, in <module>\n",
            "    from neurallog.structure_learning.engine_system_translator import \\\n",
            "  File \"/content/NeuralLog/neurallog/structure_learning/engine_system_translator.py\", line 38, in <module>\n",
            "    from neurallog.util.file import read_logic_program_from_file\n",
            "  File \"/content/NeuralLog/neurallog/util/file.py\", line 22, in <module>\n",
            "    from neurallog.language.parser.ply.neural_log_parser import NeuralLogLexer, \\\n",
            "  File \"/content/NeuralLog/neurallog/language/parser/ply/neural_log_parser.py\", line 25, in <module>\n",
            "    import ply.lex as lex\n",
            "ModuleNotFoundError: No module named 'ply'\n"
          ]
        }
      ]
    },
    {
      "cell_type": "code",
      "source": [
        "!pwd"
      ],
      "metadata": {
        "colab": {
          "base_uri": "https://localhost:8080/"
        },
        "id": "0TjGofwvwnUZ",
        "outputId": "530c4799-b35f-4025-bfc8-8e0ee946e686"
      },
      "execution_count": 10,
      "outputs": [
        {
          "output_type": "stream",
          "name": "stdout",
          "text": [
            "/content/NeuralLog\n"
          ]
        }
      ]
    },
    {
      "cell_type": "code",
      "source": [],
      "metadata": {
        "id": "THoT6inI1s35"
      },
      "execution_count": null,
      "outputs": []
    }
  ]
}